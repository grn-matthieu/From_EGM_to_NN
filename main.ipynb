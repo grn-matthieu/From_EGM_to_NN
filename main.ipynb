{
 "cells": [
  {
   "cell_type": "markdown",
   "id": "88fc8e4d",
   "metadata": {},
   "source": [
    "## Title - Master's Thesis\n",
    "#### Author : Matthieu Grenier\n",
    "\n",
    "This notebook provides the code associated with the Master's thesis \"\". The code was written in Julia 1.11.6.\n",
    "\n",
    "***\n",
    "\n",
    "#### The consumption-saving problem\n",
    "\n",
    "As per the article of Maliar et al.(2021), we overlook the consumption-saving problem and solve using various methods. A baseline result is obtained using non-linear solvers, and we proceed by comparing 4 options :\n",
    "- Perturbation methods\n",
    "- Projection methods\n",
    "- Deep Learning methods à la Maliar et al.(2021)\n",
    "- Enhanced DL method\n",
    "\n",
    "\n",
    "This example is fairly simple, but allows for proper representation of how neural networks can be useful when dealing with kinks in the decision rule. Such kinks arise in most dynamic economic models when a given constraint is binding (for instance the implementation of the ZLB in the HANK model, see ???).\n",
    "\n",
    "This notebook was written in Julia. It is an open-source language, designed for high performance. It supports parallelization and multiple dispatch, which happens to be ideal for the sake of the thesis. The code outputs, graphs and tables are reproducible by a third-party. To do so, the reader is welcome to make use of the Julia environment associated with the notebook. Additional informations can be found in the [Pkg.jl documentation](https://pkgdocs.julialang.org/v1/environments/)"
   ]
  },
  {
   "cell_type": "code",
   "execution_count": 1,
   "id": "906e164e",
   "metadata": {},
   "outputs": [
    {
     "name": "stderr",
     "output_type": "stream",
     "text": [
      "\u001b[32m\u001b[1m  Activating\u001b[22m\u001b[39m new project at `C:\\Users\\grnma\\AppData\\Local\\Temp\\jl_8078lL`\n"
     ]
    }
   ],
   "source": [
    "using Pkg\n",
    "Pkg.activate(mktempdir());"
   ]
  },
  {
   "cell_type": "code",
   "execution_count": 2,
   "id": "2fc0e7df",
   "metadata": {},
   "outputs": [
    {
     "ename": "ArgumentError",
     "evalue": "ArgumentError: Package BenchmarkTools not found in current path.\n- Run `import Pkg; Pkg.add(\"BenchmarkTools\")` to install the BenchmarkTools package.",
     "output_type": "error",
     "traceback": [
      "ArgumentError: Package BenchmarkTools not found in current path.\n",
      "- Run `import Pkg; Pkg.add(\"BenchmarkTools\")` to install the BenchmarkTools package.\n",
      "\n",
      "Stacktrace:\n",
      "  [1] macro expansion\n",
      "    @ .\\loading.jl:2296 [inlined]\n",
      "  [2] macro expansion\n",
      "    @ .\\lock.jl:273 [inlined]\n",
      "  [3] __require(into::Module, mod::Symbol)\n",
      "    @ Base .\\loading.jl:2271\n",
      "  [4] #invoke_in_world#3\n",
      "    @ .\\essentials.jl:1089 [inlined]\n",
      "  [5] invoke_in_world\n",
      "    @ .\\essentials.jl:1086 [inlined]\n",
      "  [6] require(into::Module, mod::Symbol)\n",
      "    @ Base .\\loading.jl:2260\n",
      "  [7] eval\n",
      "    @ .\\boot.jl:430 [inlined]\n",
      "  [8] include_string(mapexpr::typeof(REPL.softscope), mod::Module, code::String, filename::String)\n",
      "    @ Base .\\loading.jl:2734\n",
      "  [9] #invokelatest#2\n",
      "    @ .\\essentials.jl:1055 [inlined]\n",
      " [10] invokelatest\n",
      "    @ .\\essentials.jl:1052 [inlined]\n",
      " [11] (::VSCodeServer.var\"#217#218\"{VSCodeServer.NotebookRunCellArguments, String})()\n",
      "    @ VSCodeServer c:\\Users\\grnma\\.vscode\\extensions\\julialang.language-julia-1.149.2\\scripts\\packages\\VSCodeServer\\src\\serve_notebook.jl:24\n",
      " [12] withpath(f::VSCodeServer.var\"#217#218\"{VSCodeServer.NotebookRunCellArguments, String}, path::String)\n",
      "    @ VSCodeServer c:\\Users\\grnma\\.vscode\\extensions\\julialang.language-julia-1.149.2\\scripts\\packages\\VSCodeServer\\src\\repl.jl:276\n",
      " [13] notebook_runcell_request(conn::VSCodeServer.JSONRPC.JSONRPCEndpoint{Base.PipeEndpoint, Base.PipeEndpoint, VSCodeServer.JSON.Serializations.StandardSerialization}, params::VSCodeServer.NotebookRunCellArguments, token::VSCodeServer.CancellationTokens.CancellationToken)\n",
      "    @ VSCodeServer c:\\Users\\grnma\\.vscode\\extensions\\julialang.language-julia-1.149.2\\scripts\\packages\\VSCodeServer\\src\\serve_notebook.jl:13\n",
      " [14] dispatch_msg(x::VSCodeServer.JSONRPC.JSONRPCEndpoint{Base.PipeEndpoint, Base.PipeEndpoint, VSCodeServer.JSON.Serializations.StandardSerialization}, dispatcher::VSCodeServer.JSONRPC.MsgDispatcher, msg::VSCodeServer.JSONRPC.Request)\n",
      "    @ VSCodeServer.JSONRPC c:\\Users\\grnma\\.vscode\\extensions\\julialang.language-julia-1.149.2\\scripts\\packages\\JSONRPC\\src\\typed.jl:68\n",
      " [15] serve_notebook(pipename::String, debugger_pipename::String, outputchannel_logger::Base.CoreLogging.SimpleLogger; error_handler::var\"#5#10\"{String})\n",
      "    @ VSCodeServer c:\\Users\\grnma\\.vscode\\extensions\\julialang.language-julia-1.149.2\\scripts\\packages\\VSCodeServer\\src\\serve_notebook.jl:147\n",
      " [16] top-level scope\n",
      "    @ c:\\Users\\grnma\\.vscode\\extensions\\julialang.language-julia-1.149.2\\scripts\\notebook\\notebook.jl:35"
     ]
    }
   ],
   "source": [
    "# Required packages for this notebook\n",
    "\n",
    "using LinearAlgebra, Statistics, Random, Distributions, Printf, BenchmarkTools\n",
    "using QuantEcon, Interpolations, FastChebInterp, NLsolve, Optim, QuadGK\n",
    "using Plots, LaTeXStrings\n",
    "using ForwardDiff"
   ]
  },
  {
   "cell_type": "markdown",
   "id": "399be1f5",
   "metadata": {},
   "source": [
    "***\n",
    "\n",
    "### A first model to grasp the efficiency of the DL method\n",
    "\n",
    "An agent aims to maximise its consumption under a borrowing constraint. Its program is :\n",
    "\n",
    "$$\n",
    "\\begin{equation*}\n",
    "\\max_{(c_t), (w_t)}  \\sum_{t=0}^\\infty \\beta^t u(c_t) \\quad\n",
    "\\\\[5ex]\n",
    "\\text{s. t. } \n",
    "\\begin{cases}\n",
    "w_{t+1} = r(w_t - c_t) + e^{y_t} \\\\\n",
    "c_t \\leq w_t\n",
    "\\end{cases}\n",
    "\\end{equation*}\n",
    "$$\n",
    "\n",
    "$y_t$ follows an AR(1) process : $y_{t+1} = \\rho y_t + \\sigma \\epsilon_t, \\; \\epsilon_t \\sim \\mathcal{N}(0, 1)$\n",
    "\n",
    "This program can be extended to all any type of agent : households, firms, governments."
   ]
  },
  {
   "cell_type": "code",
   "execution_count": null,
   "id": "a1d7e533",
   "metadata": {},
   "outputs": [],
   "source": [
    "model = (;\n",
    "    β = 0.9, # Discount factor\n",
    "    r = 1.04, # Interest rate\n",
    "    γ = 2.0, # Coefficient of relative risk aversion\n",
    "    ρ = 0.0, # Autoregressive parameter for income shocks\n",
    "    σ = 0.1, # Standard deviation of the shock\n",
    "    ā   = 0.0, # Borrowing limit\n",
    "    Na = 500, # Number of grid points for assets\n",
    "    a_min = 0.0, # Minimum asset level\n",
    "    a_max = 50.0, # Maximum asset level\n",
    "    )"
   ]
  },
  {
   "cell_type": "code",
   "execution_count": null,
   "id": "614a6ad9",
   "metadata": {},
   "outputs": [],
   "source": [
    "# Variants of the utility function\n",
    "\n",
    "u(c; model = model) = (c^(1 - model.γ) - 1) / (1 - model.γ)\n",
    "u_prime(c; model = model) = c^(-model.γ)\n",
    "u_prime_inv(x; model = model) = x^(-1/model.γ);"
   ]
  },
  {
   "cell_type": "code",
   "execution_count": null,
   "id": "83660580",
   "metadata": {},
   "outputs": [],
   "source": [
    "# Helper functions for the consumption-saving problem\n",
    "# Eases the understanding of each algorithm detailed below\n",
    "\n",
    "clamp_to_budget(c, a, y) = min(c, y + model.r*a - model.ā)  # enforce a' ≥ ā  (⇒ c ≤ w)\n",
    "asset_grid = range(model.a_min, model.a_max; length=model.Na) |> collect;"
   ]
  },
  {
   "cell_type": "markdown",
   "id": "e72d5887",
   "metadata": {},
   "source": [
    "***\n",
    "\n",
    "First, let's compute a high-accuracy solution to be our baseline throughout the notebook. We rely on the Endongenous Grid Method (EGM) introduced by Carroll in 2005 (insert link). The main idea of EDG is to generate an exogeneous grid of assets, which yields under invertability of the utility function, associated levels of consumption. We can then approximate the operator K by observing the set of all pairs $(c_i, y_i)$."
   ]
  },
  {
   "cell_type": "code",
   "execution_count": null,
   "id": "8b937eaa",
   "metadata": {},
   "outputs": [],
   "source": [
    "# -------------------------------------------------------------------\n",
    "# EGM Method to solve the consumption-saving problem\n",
    "# -------------------------------------------------------------------\n",
    "function egm_solve(; model = model, tol=1e-8, maxit=5_000, damp=0.95)\n",
    "    # Unpack model parameters\n",
    "    β, R, γ = model.β, model.r, model.γ\n",
    "    ρ, σ = model.ρ, model.σ\n",
    "    Na, Nz = length(asset_grid), length(ygrid)\n",
    "    \n",
    "    # Initial guess: consume permanent income share\n",
    "    c = [0.96*(y + (R-1)*a) for a in asset_grid, y in ygrid]\n",
    "    a_next = similar(c)\n",
    "    it = 0\n",
    "    diff = 1.0\n",
    "    Emu = zeros(Na, Nz)\n",
    "    while it < maxit && diff > tol\n",
    "        it += 1\n",
    "        # expected marginal utility next period for each z today\n",
    "        for iz in 1:Nz\n",
    "            for jz in 1:Nz\n",
    "                @inbounds Emu[:,iz] .+= Pz[iz,jz] * u_prime.(c[:,jz])\n",
    "            end\n",
    "        end\n",
    "        # Euler: up(c_t) = β R E[up(c_{t+1})]\n",
    "        c_star = u_prime_inv.(β*R .* Emu)\n",
    "        # endogenous grid for a_t (m today)\n",
    "        for iz in 1:Nz\n",
    "            y = ygrid[iz]\n",
    "            m_star = c_star[:,iz] .+ asset_grid        # m = c + a' (since a' grid is asset_grid)\n",
    "            a_of_m = (m_star .- y) ./ R                # implied a today\n",
    "            # Interpolate c(a,z) on regular asset_grid\n",
    "            itp = interpolate((a_of_m,), c_star[:,iz], Gridded(Linear()))\n",
    "            c_new = [clamp_to_budget(itp(min(max(a, first(a_of_m)), last(a_of_m))), a, y) for a in asset_grid]\n",
    "            c[:,iz] = damp .* c_new .+ (1-damp) .* c[:,iz]\n",
    "            a_next[:,iz] = (y .+ R .* asset_grid) .- c[:,iz]\n",
    "        end\n",
    "        diff = maximum(abs.(Emu)) # cheap proxy for progress\n",
    "        fill!(Emu, 0.0)\n",
    "    end\n",
    "    return c, a_next\n",
    "end\n",
    "\n",
    "c_egm, a_next_egm = egm_solve()"
   ]
  },
  {
   "cell_type": "markdown",
   "id": "d526a9eb",
   "metadata": {},
   "source": [
    "#### Lifetime-reward maximisation"
   ]
  },
  {
   "cell_type": "markdown",
   "id": "91fdc2d0",
   "metadata": {},
   "source": [
    "Maliar et al.(2021) show that tackling the lifetime-reward maximisation is equivalent to minimizing the following objective function : \n",
    "\n",
    "<br><br>\n",
    "\n",
    "**Definition 2.4** (All-in-one expectation operator for lifetime reward). *Fix time horizon* $T > 0$, *parametrize a decision rule* $\\varphi(\\cdot; \\theta)$ *and define the distribution of the random variable* $\\omega \\equiv (m_0, s_0, \\epsilon_1, \\ldots, \\epsilon_T)$. *For given* $\\theta$, *lifetime reward associated with the rule* $\\varphi(\\cdot; \\theta)$ *is given by*\n",
    "\n",
    "$$\n",
    "\\Xi(\\theta) = \\mathbb{E}_\\omega[\\xi(\\omega; \\theta)] \\equiv \\mathbb{E}_{(m_0, s_0, \\epsilon_1, \\ldots, \\epsilon_T)} \\left[ \\left. \\sum_{t=0}^T \\beta^t r(m_t, s_t, \\varphi(m_t, s_t; \\theta)) \\right] \\right.,\n",
    "$$\n",
    "\n",
    "*where transitions are determined by equations (1), (2) and (3), and* $\\xi$ *is an integrand.*\n",
    "\n",
    "<br><br>\n",
    "\n",
    "\n",
    "As per Maliar et al.(2021), the estimation procedure is proceeded using deep learning associated with $n \\times n'$ Monte-Carlo draws."
   ]
  },
  {
   "cell_type": "code",
   "execution_count": null,
   "id": "3740121f",
   "metadata": {},
   "outputs": [],
   "source": []
  }
 ],
 "metadata": {
  "kernelspec": {
   "display_name": "Julia 1.11.6",
   "language": "julia",
   "name": "julia-1.11"
  },
  "language_info": {
   "file_extension": ".jl",
   "mimetype": "application/julia",
   "name": "julia",
   "version": "1.11.6"
  }
 },
 "nbformat": 4,
 "nbformat_minor": 5
}
