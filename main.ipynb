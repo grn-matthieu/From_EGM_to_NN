{
 "cells": [
  {
   "cell_type": "markdown",
   "id": "88fc8e4d",
   "metadata": {},
   "source": [
    "## Title - Master's Thesis\n",
    "##### Author : Matthieu Grenier\n",
    "\n",
    "This notebook provides the code associated with the Master's thesis \"Has my value function converged ? A comparison of solution methods\".\n",
    "\n",
    "This notebook was written in Julia 1.11.6. It is an open-source language suited for statistics and Machine Learning, designed for high performance. The language relies on just-in-time (JIT) compilation. This happens to be well suited for dynamic programming. Indeed, dynamic programming workloads rely on tight loops and repeated linear algebra. Julia’s JIT compiler (LLVM) makes plain, readable loops fast without resorting to compiled low-level languages such as C or Fortran. The language is strongly typed, thus the user has the freedom of setting its own types, or let the language automatically infer what suits best. Therefore, value and policy iteration run at compiled speeds.\n",
    "\n",
    "For a great introduction, see *Statistics with Julia: Fundamentals for Data Science, Machine Learning and Artificial Intelligence* (Nazarathy & Klok, 2021). One can also get familiar with Julia and its application to economics on the [QuantEcon website](https://quantecon.org/).\n",
    "\n",
    "\n",
    "The code outputs, graphs and tables are reproducible by a third-party (random seeds are fixed). To do so, the reader is welcome to make use of the Julia environment associated with the notebook. Additional informations can be found in the [Pkg.jl documentation](https://pkgdocs.julialang.org/v1/environments/). \n",
    "\n",
    "***"
   ]
  },
  {
   "cell_type": "markdown",
   "id": "e5c39173",
   "metadata": {},
   "source": [
    "### Environment setup"
   ]
  },
  {
   "cell_type": "code",
   "execution_count": 4,
   "id": "694e546f",
   "metadata": {},
   "outputs": [
    {
     "name": "stderr",
     "output_type": "stream",
     "text": [
      "\u001b[32m\u001b[1m  Activating\u001b[22m\u001b[39m project at `c:\\Users\\grnma\\OneDrive\\Bureau\\Master's Thesis\\From_EGM_to_NN`\n"
     ]
    }
   ],
   "source": [
    "# Code to activate the environment and instantiate dependencies\n",
    "\n",
    "import Pkg\n",
    "\n",
    "Pkg.activate(Base.dirname(Base.current_project()) == nothing ? \".\" : Base.dirname(Base.current_project()))\n",
    "Pkg.instantiate()"
   ]
  },
  {
   "cell_type": "code",
   "execution_count": 5,
   "id": "0fb8a0c7",
   "metadata": {},
   "outputs": [],
   "source": [
    "# Required packages for this notebook\n",
    "\n",
    "using LinearAlgebra, Statistics, Random, Distributions, Printf, BenchmarkTools\n",
    "using QuantEcon, Interpolations, FastChebInterp, NLsolve, Optim, QuadGK\n",
    "using Plots, LaTeXStrings\n",
    "using ForwardDiff"
   ]
  },
  {
   "cell_type": "markdown",
   "id": "31ebbca6",
   "metadata": {},
   "source": [
    "***"
   ]
  },
  {
   "cell_type": "markdown",
   "id": "ca6a4838",
   "metadata": {},
   "source": [
    "### The consumption-saving problem\n",
    "\n",
    "As per the article of Maliar et al.(2021), we overlook the consumption-saving problem and solve using various methods. A baseline result is obtained using non-linear solvers, and we proceed by comparing 4 options :\n",
    "- Perturbation methods\n",
    "- Projection methods\n",
    "- Deep Learning methods à la Maliar et al.(2021)\n",
    "- Enhanced DL method\n",
    "\n",
    "\n",
    "This example is fairly simple, but allows for proper representation of how neural networks can be useful when dealing with kinks in the decision rule. Such kinks arise in most dynamic economic models when a given constraint is binding (for instance the implementation of the ZLB in the HANK model, see ???).\n"
   ]
  },
  {
   "cell_type": "markdown",
   "id": "399be1f5",
   "metadata": {},
   "source": [
    "***\n",
    "\n",
    "### A model to grasp the multiplicity of solution methods\n",
    "\n",
    "The first model which we consider is fairly simple. It is the same as in Maliar et al.(2021). An agent aims to maximise its consumption under a borrowing constraint. Its program is :\n",
    "\n",
    "$$\n",
    "\\begin{equation*}\n",
    "\\max_{(c_t), (w_t)}  \\sum_{t=0}^\\infty \\beta^t u(c_t) \\quad\n",
    "\\\\[5ex]\n",
    "\\text{s. t. } \n",
    "\\begin{cases}\n",
    "w_{t+1} = r(w_t - c_t) + e^{y_t} \\\\\n",
    "c_t \\leq w_t\n",
    "\\end{cases}\n",
    "\\end{equation*}\n",
    "$$\n",
    "\n",
    "$y_t$ follows an AR(1) process : $$ y_{t+1} = \\rho y_t + \\sigma \\epsilon_t, \\; \\epsilon_t \\sim \\mathcal{N}(0, 1)$$\n",
    "\n",
    "This program can be extended to all any type of agent : households, firms, governments. Its simplicity allows us to get the gist of the main methods available for economists, with quick and interpretable results."
   ]
  },
  {
   "cell_type": "markdown",
   "id": "40221426",
   "metadata": {},
   "source": [
    "### Initialization"
   ]
  },
  {
   "cell_type": "markdown",
   "id": "dcf61c0c",
   "metadata": {},
   "source": [
    "We iniitialize our model with baseline values. We also provide relevant function that will improve readability and comprehensiveness of the algorithms."
   ]
  },
  {
   "cell_type": "code",
   "execution_count": null,
   "id": "a1d7e533",
   "metadata": {},
   "outputs": [
    {
     "data": {
      "text/plain": [
       "(β = 0.9, r = 1.04, γ = 2.0, ρ = 0.0, σ = 0.1, ā = 0.0, Na = 500, a_min = 0.0, a_max = 50.0)"
      ]
     },
     "metadata": {},
     "output_type": "display_data"
    }
   ],
   "source": [
    "# The exogenous parameters for the model are specified here\n",
    "# Explanations of the parameter values can be found in Appendix A\n",
    "\n",
    "model = (;\n",
    "    β = 0.9, # Discount factor\n",
    "    r = 1.04, # Interest rate\n",
    "    γ = 2.0, # Coefficient of relative risk aversion\n",
    "    ρ = 0.0, # Autoregressive parameter for income shocks\n",
    "    σ = 0.1, # Standard deviation of the shock\n",
    "    ā   = 0.0, # Borrowing limit\n",
    "    Na = 500, # Number of grid points for assets\n",
    "    a_min = 0.0, # Minimum asset level\n",
    "    a_max = 50.0, # Maximum asset level\n",
    "    )"
   ]
  },
  {
   "cell_type": "code",
   "execution_count": 7,
   "id": "614a6ad9",
   "metadata": {},
   "outputs": [],
   "source": [
    "# Variants of the utility function\n",
    "\n",
    "u(c; model = model) = (c^(1 - model.γ) - 1) / (1 - model.γ)\n",
    "u_prime(c; model = model) = c^(-model.γ)\n",
    "u_prime_inv(x; model = model) = x^(-1/model.γ);"
   ]
  },
  {
   "cell_type": "code",
   "execution_count": 8,
   "id": "83660580",
   "metadata": {},
   "outputs": [],
   "source": [
    "# Helper functions for the consumption-saving problem\n",
    "# Eases the understanding of each algorithm detailed below\n",
    "\n",
    "clamp_to_budget(c, a, y) = min(c, y + model.r*a - model.ā)  # To enforce the borrowing constraint :  a' ≥ ā  ↔ c ≤ w\n",
    "asset_grid = range(model.a_min, model.a_max; length=model.Na) |> collect;"
   ]
  },
  {
   "cell_type": "markdown",
   "id": "e72d5887",
   "metadata": {},
   "source": [
    "***\n",
    "\n",
    "### A comparison between four approaches.\n",
    "\n",
    "First, let's compute a high-accuracy solution to be our baseline throughout the notebook. We rely on the Endongenous Grid Method (EGM) introduced by Carroll in 2005 (insert link). The main idea of EDG is to generate an exogeneous grid of assets, which yields under invertability of the utility function, associated levels of consumption. By doing so, we avoid a root-finding problem, which can be computationnaly expensive. It shall be categorized as part of the \"collocation methods\". For small problems, like the one here, EGM is efficient, precise, and robust."
   ]
  },
  {
   "cell_type": "code",
   "execution_count": null,
   "id": "8b937eaa",
   "metadata": {},
   "outputs": [],
   "source": [
    "function egm_solve(model; Nz=11, zgrid=nothing, Pz=nothing, η=1e-8, max_iter=5_000, damp=0.95)\n",
    "    \"\"\"\n",
    "    egm_solve(model; Nz=11, zgrid=nothing, Pz=nothing, η=1e-8, max_iter=5_000, damp=0.95)\n",
    "\n",
    "    Applies the EGM method to solve our problem, that is to say that it returns the optimal consumption and next-period assets policies.\n",
    "    - States today : (a, y) with cash-on-hand w = r*a + exp(y)\n",
    "    - Controls : c (consumption) and a' (next-period assets) with the borrowing limit a' ≥ ā\n",
    "    - Law of motion : a' chosen on the grid; budget: c + a' = r*a + exp(y)\n",
    "    - Euler Equation : u'(c) = β * r * E_y'[ u'(c') ]\n",
    "\n",
    "    Returns `(c, a_next, asset_grid, zgrid, Pz)` where:\n",
    "    - `c[a_i, z_j]` and `a_next[a_i, z_j]` are policy arrays on the asset and income grids.\n",
    "\n",
    "    The function supports continuous income grids, by using Tauchen's method to generate a Markov chain for the income process.\n",
    "    \"\"\"\n",
    "    # ---- Unpacking + Grid selection -------------------------------------\n",
    "    β, r, γ = model.β, model.r, model.γ\n",
    "    ā       = model.ā\n",
    "    Na      = model.Na\n",
    "    a_min   = model.a_min\n",
    "    a_max   = model.a_max\n",
    "\n",
    "    # Asset grid (for BOTH a and a′). Start exactly at the borrowing limit.\n",
    "    asset_grid = range(max(ā, a_min), a_max; length=Na) |> collect\n",
    "\n",
    "    # Generation of the income process z_t (log-income) using Tauchen's method\n",
    "    # The generating procedure is only applied if the zgrid or Pz are not provided.²\n",
    "    if zgrid === nothing || Pz === nothing\n",
    "        mc = tauchen(Nz, model.ρ, model.σ)              # AR(1): z' = ρ z + σ ε\n",
    "        zgrid = collect(mc.state_values)                # grid of incomes\n",
    "        Pz    = Array(mc.p)                             # transition matrix\n",
    "    else\n",
    "        Nz = length(zgrid)  # in case user passed a custom grid\n",
    "    end\n",
    "    ygrid = exp.(zgrid)                                  # income levels e^{y}\n",
    "\n",
    "    # ---- Initialization  of the algorithm -------------------------------\n",
    "\n",
    "    # Policy functions on (a, z) are stored as functions of today's state variables.\n",
    "    # This means that we will have c[a_i, z_j] and a_next[a_i, z_j] for each asset a_i and income z_j.\n",
    "    c = Array{Float64}(undef, Na, Nz) # Policies are stored in a matrix form\n",
    "    a_next = similar(c)\n",
    "\n",
    "    for j in 1:Nz\n",
    "        y = ygrid[j]\n",
    "        # The cash-on-hand is defined for each a as such: w = r*a + y\n",
    "        w = @. r*asset_grid + y\n",
    "        # And the agent must respect the borrowing constraint: a′ ≥ ā\n",
    "        # We set c = 0.97 * w as a stable starting guess for consumption. The 0.97 factor is the same as in QuantEcon's EGM implementation.\n",
    "        c[:, j] = clamp.(0.97 .* w, 1e-12, w .- ā)\n",
    "        a_next[:, j] = w .- c[:, j]                       # implied a′ by the budget constraint\n",
    "    end\n",
    "\n",
    "    Exp_mu = zeros(Na, Nz) # Exp_mu = Expected marginal utility of consumption\n",
    "\n",
    "    # ---- EGM iterations -------------------------------------------------\n",
    "    \n",
    "    it = 0\n",
    "    crit = 1.0\n",
    "    while it < max_iter && crit > η\n",
    "        it += 1\n",
    "\n",
    "        # Compute expected marginal utility of c at each a′ and current z\n",
    "        # We have : Exp_mu[i, j] = E[ u'(c'(a′=asset_grid[i], z')) | z=j ]\n",
    "\n",
    "        for j in 1:Nz                \n",
    "            for jp in 1:Nz           # Iteration over the next income state z'\n",
    "                Exp_mu[:, j] .+= Pz[j, jp] * u_prime.(c[:, jp]; model=model) # Weighted average of u'(c') according to Pz\n",
    "            end\n",
    "        end\n",
    "\n",
    "        # 2b) Euler inversion: u'(c) = β r Exp_mu  ⇒  c*(a′, z) = u'_inv(β r Exp_mu)\n",
    "        c_star = u_prime_inv.(β * r .* Exp_mu; model=model)  # size (Na, Nz)\n",
    "        # Numerical safety\n",
    "        @. c_star = max(c_star, 1e-12)\n",
    "\n",
    "        # 2c) Endogenous cash-on-hand grid for each (a′, z):\n",
    "        #     w* = c*(a′, z) + a′\n",
    "        #     Given income y today, the implied current assets a are:\n",
    "        #     a = (w* - y) / r\n",
    "        for j in 1:Nz\n",
    "            y = ygrid[j]\n",
    "\n",
    "            w_star = c_star[:, j] .+ asset_grid\n",
    "            a_of_w = (w_star .- y) ./ r  # \"endogenous\" current asset grid\n",
    "\n",
    "            # 2d) Interpolate from (a_of_w, c_star) → c(a, z) on the regular asset_grid.\n",
    "            #     BUT: for low w (low a), the borrowing constraint binds (a′ = ā).\n",
    "            #     We handle this by:\n",
    "            #       • for a below the minimum of a_of_w  ⇒ set c = w - ā (consume all above binding a′=ā)\n",
    "            #       • for a within the convex hull       ⇒ interpolate linearly\n",
    "            #       • for a above the maximum            ⇒ extrapolate linearly (rare if grid wide enough)\n",
    "\n",
    "            # Construct a linear interpolation on the *monotone* region.\n",
    "            # Ensure strict monotonicity in a_of_w to avoid interpolation errors.\n",
    "            # If (rare) numerical non-monotonicity, enforce by stable sort + unique.\n",
    "            idx = sortperm(a_of_w)\n",
    "            a_of_w_sorted = a_of_w[idx]\n",
    "            c_star_sorted = c_star[idx, j]\n",
    "\n",
    "            itp = linear_interpolation(a_of_w_sorted, c_star_sorted; extrapolation_bc=Line())\n",
    "\n",
    "            # Fill c_new on the regular asset grid\n",
    "            @inbounds for i in eachindex(asset_grid)\n",
    "                a = asset_grid[i]\n",
    "                w = r*a + y\n",
    "\n",
    "                if a <= first(a_of_w_sorted)   # binding region ⇒ a′=ā ⇒ c = w - ā\n",
    "                    c_val = max(1e-12, w - ā)\n",
    "                else\n",
    "                    # interior / upper region: use interpolated c*\n",
    "                    c_val = max(1e-12, itp(a))\n",
    "                    # and never violate the budget c ≤ w - ā numerically\n",
    "                    c_val = min(c_val, w - ā)\n",
    "                end\n",
    "\n",
    "                # damped update for stability\n",
    "                c[i, j] = damp * c_val + (1 - damp) * c[i, j]\n",
    "                a_next[i, j] = w - c[i, j]    # implied next assets\n",
    "            end\n",
    "        end\n",
    "\n",
    "        # 2e) Convergence check: change in Euler RHS (cheap, effective)\n",
    "        crit = maximum(abs.(β * r .* Exp_mu .- u_prime.(c; model=model)))\n",
    "        # (alternatives: norm of c updates, sup-norm distance of policies, etc.)\n",
    "        # @show it, crit\n",
    "    end\n",
    "\n",
    "    return c, a_next, asset_grid, zgrid, Pz\n",
    "end"
   ]
  },
  {
   "cell_type": "markdown",
   "id": "d526a9eb",
   "metadata": {},
   "source": [
    "#### Lifetime-reward maximisation"
   ]
  },
  {
   "cell_type": "markdown",
   "id": "91fdc2d0",
   "metadata": {},
   "source": [
    "Maliar et al.(2021) show that tackling the lifetime-reward maximisation is equivalent to minimizing the following objective function : \n",
    "\n",
    "<br><br>\n",
    "\n",
    "**Definition 2.4** (All-in-one expectation operator for lifetime reward). *Fix time horizon* $T > 0$, *parametrize a decision rule* $\\varphi(\\cdot; \\theta)$ *and define the distribution of the random variable* $\\omega \\equiv (m_0, s_0, \\epsilon_1, \\ldots, \\epsilon_T)$. *For given* $\\theta$, *lifetime reward associated with the rule* $\\varphi(\\cdot; \\theta)$ *is given by*\n",
    "\n",
    "$$\n",
    "\\Xi(\\theta) = \\mathbb{E}_\\omega[\\xi(\\omega; \\theta)] \\equiv \\mathbb{E}_{(m_0, s_0, \\epsilon_1, \\ldots, \\epsilon_T)} \\left[ \\left. \\sum_{t=0}^T \\beta^t r(m_t, s_t, \\varphi(m_t, s_t; \\theta)) \\right] \\right.,\n",
    "$$\n",
    "\n",
    "*where transitions are determined by equations (1), (2) and (3), and* $\\xi$ *is an integrand.*\n",
    "\n",
    "<br><br>\n",
    "\n",
    "\n",
    "As per Maliar et al.(2021), the estimation procedure is proceeded using deep learning associated with $n \\times n'$ Monte-Carlo draws."
   ]
  },
  {
   "cell_type": "code",
   "execution_count": null,
   "id": "3740121f",
   "metadata": {},
   "outputs": [],
   "source": []
  }
 ],
 "metadata": {
  "kernelspec": {
   "display_name": "Julia 1.11.6",
   "language": "julia",
   "name": "julia-1.11"
  },
  "language_info": {
   "file_extension": ".jl",
   "mimetype": "application/julia",
   "name": "julia",
   "version": "1.11.6"
  }
 },
 "nbformat": 4,
 "nbformat_minor": 5
}
